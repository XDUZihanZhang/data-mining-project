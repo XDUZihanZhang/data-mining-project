{
 "cells": [
  {
   "cell_type": "markdown",
   "metadata": {},
   "source": [
    "# 03. Feature Engineering\n",
    "\n",
    "In this notebook:\n",
    "- We load the previously split datasets\n",
    "- Construct domain-specific features such as BMI, Pulse Pressure, and Vision Average\n",
    "- Apply the same feature transformations consistently across training, validation, and test sets\n",
    "- Save the updated datasets for further preprocessing"
   ]
  },
  {
   "cell_type": "code",
   "execution_count": null,
   "metadata": {},
   "outputs": [],
   "source": [
    "import sys\n",
    "from pathlib import Path\n",
    "\n",
    "project_root = Path.cwd().parent\n",
    "sys.path.append(str(project_root))"
   ]
  },
  {
   "cell_type": "code",
   "execution_count": 7,
   "metadata": {},
   "outputs": [
    {
     "ename": "ImportError",
     "evalue": "cannot import name 'create_features' from 'scripts.feature_engineering' (/Users/larsostertag/Desktop/UniMannheim/M1/DM/data-mining-project/scripts/feature_engineering.py)",
     "output_type": "error",
     "traceback": [
      "\u001b[0;31m---------------------------------------------------------------------------\u001b[0m",
      "\u001b[0;31mImportError\u001b[0m                               Traceback (most recent call last)",
      "Cell \u001b[0;32mIn[7], line 8\u001b[0m\n\u001b[1;32m      6\u001b[0m \u001b[38;5;28;01mimport\u001b[39;00m \u001b[38;5;21;01mpandas\u001b[39;00m \u001b[38;5;28;01mas\u001b[39;00m \u001b[38;5;21;01mpd\u001b[39;00m\n\u001b[1;32m      7\u001b[0m \u001b[38;5;28;01mfrom\u001b[39;00m \u001b[38;5;21;01mpathlib\u001b[39;00m \u001b[38;5;28;01mimport\u001b[39;00m Path\n\u001b[0;32m----> 8\u001b[0m \u001b[38;5;28;01mfrom\u001b[39;00m \u001b[38;5;21;01mscripts\u001b[39;00m\u001b[38;5;21;01m.\u001b[39;00m\u001b[38;5;21;01mfeature_engineering\u001b[39;00m \u001b[38;5;28;01mimport\u001b[39;00m create_features\n\u001b[1;32m     10\u001b[0m TRAIN_DATA_PATH \u001b[38;5;241m=\u001b[39m Path(\u001b[38;5;124m'\u001b[39m\u001b[38;5;124m../data/processed/train.csv\u001b[39m\u001b[38;5;124m'\u001b[39m)\n\u001b[1;32m     11\u001b[0m VAL_DATA_PATH \u001b[38;5;241m=\u001b[39m Path(\u001b[38;5;124m'\u001b[39m\u001b[38;5;124m../data/processed/val.csv\u001b[39m\u001b[38;5;124m'\u001b[39m)\n",
      "\u001b[0;31mImportError\u001b[0m: cannot import name 'create_features' from 'scripts.feature_engineering' (/Users/larsostertag/Desktop/UniMannheim/M1/DM/data-mining-project/scripts/feature_engineering.py)"
     ]
    }
   ],
   "source": [
    "import pandas as pd\n",
    "from pathlib import Path\n",
    "from scripts.feature_engineering import create_features\n",
    "\n",
    "TRAIN_DATA_PATH = Path('../data/processed/train.csv')\n",
    "VAL_DATA_PATH = Path('../data/processed/val.csv')\n",
    "TEST_DATA_PATH = Path('../data/processed/test.csv')\n",
    "\n",
    "OUTPUT_TRAIN_PATH = Path('../data/processed/train_fe.csv')\n",
    "OUTPUT_VAL_PATH = Path('../data/processed/val_fe.csv')\n",
    "OUTPUT_TEST_PATH = Path('../data/processed/test_fe.csv')\n",
    "\n",
    "df_train = pd.read_csv(TRAIN_DATA_PATH)\n",
    "df_val = pd.read_csv(VAL_DATA_PATH)\n",
    "df_test = pd.read_csv(TEST_DATA_PATH)\n",
    "\n",
    "print(\"Training set shape:\", df_train.shape)\n",
    "print(\"Validation set shape:\", df_val.shape)\n",
    "print(\"Test set shape:\", df_test.shape)\n",
    "\n",
    "# Apply feature engineering\n",
    "df_train_fe = create_features(df_train)\n",
    "df_val_fe = create_features(df_val)\n",
    "df_test_fe = create_features(df_test)\n",
    "\n",
    "print(\"\\nFeature engineering completed.\")\n",
    "\n",
    "df_train_fe.to_csv(OUTPUT_TRAIN_PATH, index=False)\n",
    "df_val_fe.to_csv(OUTPUT_VAL_PATH, index=False)\n",
    "df_test_fe.to_csv(OUTPUT_TEST_PATH, index=False)\n",
    "\n",
    "print(f\"\\nFeature-engineered datasets saved successfully to 'data/processed/'.\")"
   ]
  },
  {
   "cell_type": "code",
   "execution_count": 1,
   "metadata": {},
   "outputs": [
    {
     "ename": "NameError",
     "evalue": "name 'df_train_fe' is not defined",
     "output_type": "error",
     "traceback": [
      "\u001b[0;31m---------------------------------------------------------------------------\u001b[0m",
      "\u001b[0;31mNameError\u001b[0m                                 Traceback (most recent call last)",
      "Cell \u001b[0;32mIn[1], line 1\u001b[0m\n\u001b[0;32m----> 1\u001b[0m df_train_fe\n",
      "\u001b[0;31mNameError\u001b[0m: name 'df_train_fe' is not defined"
     ]
    }
   ],
   "source": [
    "\n",
    "df_train_fe"
   ]
  }
 ],
 "metadata": {
  "kernelspec": {
   "display_name": "pytorch",
   "language": "python",
   "name": "python3"
  },
  "language_info": {
   "codemirror_mode": {
    "name": "ipython",
    "version": 3
   },
   "file_extension": ".py",
   "mimetype": "text/x-python",
   "name": "python",
   "nbconvert_exporter": "python",
   "pygments_lexer": "ipython3",
   "version": "3.12.7"
  }
 },
 "nbformat": 4,
 "nbformat_minor": 2
}
